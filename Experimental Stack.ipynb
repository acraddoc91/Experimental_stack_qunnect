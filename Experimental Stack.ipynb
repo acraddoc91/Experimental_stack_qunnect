{
 "cells": [
  {
   "cell_type": "code",
   "execution_count": 10,
   "metadata": {},
   "outputs": [],
   "source": [
    "from methods import *\n",
    "from setup import *\n",
    "from time import sleep\n",
    "import qutau_measurement\n",
    "from matplotlib import pyplot as plt"
   ]
  },
  {
   "cell_type": "code",
   "execution_count": 16,
   "metadata": {},
   "outputs": [],
   "source": [
    "def update_moku(per,g_amp,l_amp,r_amp,l_w,r_w,sep,fwhm,g_pos):\n",
    "    moku, wavegen = initialize_moku(SERIAL_NO)\n",
    "#     per = 200e-6\n",
    "#     g_amp = 1\n",
    "#     l_amp = 1\n",
    "#     r_amp = 1\n",
    "#     l_w = 20\n",
    "#     r_w = 20\n",
    "#     sep = 20\n",
    "#     fwhm = 0.55\n",
    "#     g_pos = [1,'r',-0.35]\n",
    "\n",
    "    l_w_param = value_to_parameter(l_w, per)\n",
    "    r_w_param = value_to_parameter(r_w, per)\n",
    "    sep_param = value_to_parameter(sep, per)\n",
    "    fwhm_param = value_to_parameter(fwhm, per)\n",
    "    g_pos_param = [int(g_pos[0]), str(g_pos[1]), value_to_parameter(float(g_pos[2]), per)]\n",
    "\n",
    "    m = gaussian_location(l_w_param, r_w_param, sep_param, g_pos_param[0], g_pos_param[1], g_pos_param[2])\n",
    "\n",
    "    g = form_gaussian(m, fwhm_param)\n",
    "    s = form_square(l_w_param, r_w_param, l_amp, r_amp, sep_param)\n",
    "\n",
    "    upload_waveforms(g, s, moku, wavegen, per, g_amp)\n",
    "    sleep(5)"
   ]
  },
  {
   "cell_type": "code",
   "execution_count": 48,
   "metadata": {},
   "outputs": [],
   "source": [
    "def run_experiment(sep):\n",
    "    update_moku(220e-6,1,1,1,20,20,sep,0.55,[1,'r',-0.35])\n",
    "    timestamps,channels = qutau_measurement.take_data(5,2,1)\n",
    "\n",
    "    tau,coinc = qutau_measurement.get_histogram(timestamps, channels, 2, 1, 500e-6, 100e-9)\n",
    "    return tau,coinc/np.sum(channels==1)"
   ]
  },
  {
   "cell_type": "code",
   "execution_count": 52,
   "metadata": {},
   "outputs": [
    {
     "name": "stderr",
     "output_type": "stream",
     "text": [
      "Trigger level ignored when triggering from source 'ext'.\n",
      "Trigger level ignored when triggering from source 'ext'.\n"
     ]
    }
   ],
   "source": [
    "tau,coinc = run_experiment(10)"
   ]
  },
  {
   "cell_type": "code",
   "execution_count": 54,
   "metadata": {},
   "outputs": [
    {
     "name": "stderr",
     "output_type": "stream",
     "text": [
      "Trigger level ignored when triggering from source 'ext'.\n",
      "Trigger level ignored when triggering from source 'ext'.\n"
     ]
    },
    {
     "name": "stdout",
     "output_type": "stream",
     "text": [
      "5.0\n"
     ]
    },
    {
     "name": "stderr",
     "output_type": "stream",
     "text": [
      "Trigger level ignored when triggering from source 'ext'.\n",
      "Trigger level ignored when triggering from source 'ext'.\n"
     ]
    },
    {
     "name": "stdout",
     "output_type": "stream",
     "text": [
      "11.5\n"
     ]
    },
    {
     "name": "stderr",
     "output_type": "stream",
     "text": [
      "Trigger level ignored when triggering from source 'ext'.\n",
      "Trigger level ignored when triggering from source 'ext'.\n"
     ]
    },
    {
     "name": "stdout",
     "output_type": "stream",
     "text": [
      "18.0\n"
     ]
    },
    {
     "name": "stderr",
     "output_type": "stream",
     "text": [
      "Trigger level ignored when triggering from source 'ext'.\n",
      "Trigger level ignored when triggering from source 'ext'.\n"
     ]
    },
    {
     "name": "stdout",
     "output_type": "stream",
     "text": [
      "24.5\n"
     ]
    },
    {
     "name": "stderr",
     "output_type": "stream",
     "text": [
      "Trigger level ignored when triggering from source 'ext'.\n",
      "Trigger level ignored when triggering from source 'ext'.\n"
     ]
    },
    {
     "name": "stdout",
     "output_type": "stream",
     "text": [
      "31.0\n"
     ]
    },
    {
     "name": "stderr",
     "output_type": "stream",
     "text": [
      "Trigger level ignored when triggering from source 'ext'.\n",
      "Trigger level ignored when triggering from source 'ext'.\n"
     ]
    },
    {
     "name": "stdout",
     "output_type": "stream",
     "text": [
      "37.5\n"
     ]
    },
    {
     "name": "stderr",
     "output_type": "stream",
     "text": [
      "Trigger level ignored when triggering from source 'ext'.\n",
      "Trigger level ignored when triggering from source 'ext'.\n"
     ]
    },
    {
     "name": "stdout",
     "output_type": "stream",
     "text": [
      "44.0\n"
     ]
    },
    {
     "name": "stderr",
     "output_type": "stream",
     "text": [
      "Trigger level ignored when triggering from source 'ext'.\n",
      "Trigger level ignored when triggering from source 'ext'.\n"
     ]
    },
    {
     "name": "stdout",
     "output_type": "stream",
     "text": [
      "50.49999999999999\n"
     ]
    },
    {
     "name": "stderr",
     "output_type": "stream",
     "text": [
      "Trigger level ignored when triggering from source 'ext'.\n",
      "Trigger level ignored when triggering from source 'ext'.\n"
     ]
    },
    {
     "name": "stdout",
     "output_type": "stream",
     "text": [
      "56.99999999999999\n"
     ]
    },
    {
     "name": "stderr",
     "output_type": "stream",
     "text": [
      "Trigger level ignored when triggering from source 'ext'.\n",
      "Trigger level ignored when triggering from source 'ext'.\n"
     ]
    },
    {
     "name": "stdout",
     "output_type": "stream",
     "text": [
      "63.5\n"
     ]
    },
    {
     "name": "stderr",
     "output_type": "stream",
     "text": [
      "Trigger level ignored when triggering from source 'ext'.\n",
      "Trigger level ignored when triggering from source 'ext'.\n"
     ]
    },
    {
     "name": "stdout",
     "output_type": "stream",
     "text": [
      "70.0\n"
     ]
    }
   ],
   "source": [
    "storage_time = np.linspace(5e-6,70e-6,11)\n",
    "coinc_vec = np.zeros((len(storage_time),len(coinc)))\n",
    "for i in range(len(storage_time)):\n",
    "    _,coinc_vec[i,:] = run_experiment(storage_time[i]*1e6)\n",
    "    print(storage_time[i]*1e6)"
   ]
  },
  {
   "cell_type": "code",
   "execution_count": 66,
   "metadata": {},
   "outputs": [
    {
     "data": {
      "image/png": "[encoded data removed]",
      "text/plain": [
       "<Figure size 432x288 with 2 Axes>"
      ]
     },
     "metadata": {
      "needs_background": "light"
     },
     "output_type": "display_data"
    }
   ],
   "source": [
    "plt.imshow(coinc_vec,aspect='auto',origin='lower',extent=np.array([tau[0],tau[-1],storage_time[0],storage_time[-1]])*1e6)\n",
    "plt.xlim(135,225)\n",
    "plt.clim(0,0.02)\n",
    "plt.colorbar()\n",
    "plt.xlabel('t (us)')\n",
    "plt.ylabel('Storage time (us)')\n",
    "plt.show()"
   ]
  },
  {
   "cell_type": "code",
   "execution_count": 77,
   "metadata": {},
   "outputs": [],
   "source": [
    "def peak_finder(tau,coinc):\n",
    "    # Avoid main peak\n",
    "    ind = np.argmax(tau>135e-6)\n",
    "    dummy = coinc[ind:]\n",
    "    return ind + np.argmax(dummy)"
   ]
  },
  {
   "cell_type": "code",
   "execution_count": 81,
   "metadata": {},
   "outputs": [],
   "source": [
    "peak_loc_vec = np.array([peak_finder(tau,c) for c in coinc_vec])"
   ]
  },
  {
   "cell_type": "code",
   "execution_count": 105,
   "metadata": {},
   "outputs": [],
   "source": [
    "back_vec = np.zeros(len(storage_time))\n",
    "for i in range(len(storage_time)):\n",
    "    back_vec[i] = np.mean(coinc_vec[i,peak_loc_vec[i]+25:peak_loc_vec[i]+35])\n",
    "tot_coinc = np.zeros(len(storage_time))\n",
    "for i in range(len(storage_time)):\n",
    "    tot_coinc[i] = np.sum(coinc_vec[i,peak_loc_vec[i]-3:peak_loc_vec[i]+15]-back_vec[i])"
   ]
  },
  {
   "cell_type": "code",
   "execution_count": 108,
   "metadata": {},
   "outputs": [
    {
     "data": {
      "image/png": "[encoded data removed]",
      "text/plain": [
       "<Figure size 432x288 with 1 Axes>"
      ]
     },
     "metadata": {
      "needs_background": "light"
     },
     "output_type": "display_data"
    }
   ],
   "source": [
    "plt.plot(storage_time*1e6,tot_coinc)\n",
    "plt.xlabel('Storage Time (us)')\n",
    "plt.ylabel('Counts')\n",
    "plt.show()"
   ]
  },
  {
   "cell_type": "code",
   "execution_count": null,
   "metadata": {},
   "outputs": [],
   "source": []
  }
 ],
 "metadata": {
  "kernelspec": {
   "display_name": "Python 3",
   "language": "python",
   "name": "python3"
  },
  "language_info": {
   "codemirror_mode": {
    "name": "ipython",
    "version": 3
   },
   "file_extension": ".py",
   "mimetype": "text/x-python",
   "name": "python",
   "nbconvert_exporter": "python",
   "pygments_lexer": "ipython3",
   "version": "3.8.5"
  }
 },
 "nbformat": 4,
 "nbformat_minor": 4
}
